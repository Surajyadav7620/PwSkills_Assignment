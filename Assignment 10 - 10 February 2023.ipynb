{
 "cells": [
  {
   "cell_type": "raw",
   "id": "4c78a0cd-6010-49d1-8d74-cbff1615e6a2",
   "metadata": {},
   "source": [
    "                                                       ASSIGNMENT-"
   ]
  },
  {
   "cell_type": "markdown",
   "id": "50202114-4970-4d41-aa80-1fc0ed697a4e",
   "metadata": {},
   "source": [
    "Question 1 : Which function is used to open a file? What are the different modes of opening a file? Explain each mode of file opening."
   ]
  },
  {
   "cell_type": "markdown",
   "id": "12bd44a9-b018-46d2-89ef-1a297549393f",
   "metadata": {},
   "source": [
    "Answer : Files in Python can be opened with a built-in open() function\n",
    "Syntax : open(file_address, access_mode)\n",
    "\n",
    "In ‘r’ mode, the file opens in the read only mode. By default, if we don’t specify the mode argument, it will be treated as read or ‘r’ mode."
   ]
  },
  {
   "cell_type": "code",
   "execution_count": 1,
   "id": "e5e50763-ddc4-4387-ba51-780e63ea4019",
   "metadata": {},
   "outputs": [
    {
     "name": "stdout",
     "output_type": "stream",
     "text": [
      "This is a+ mode\n",
      "This is a+ mode\n",
      "This is text written in append mode\n",
      "\n"
     ]
    }
   ],
   "source": [
    "# r mode example\n",
    "# Reading a file\n",
    "file = open('MyFile.txt', 'r')\n",
    "\n",
    "#read()\n",
    "text = file.read()\n",
    "\n",
    "print(text)\n",
    "file.close()"
   ]
  },
  {
   "cell_type": "markdown",
   "id": "2959bf02-1595-4fd3-bc69-53002244ed46",
   "metadata": {},
   "source": [
    "2.In the ‘w’ mode, the file opens in write mode. It removes existing content, if present, in the file. If the specified file doesn’t exist, it creates one with the specified name."
   ]
  },
  {
   "cell_type": "code",
   "execution_count": 8,
   "id": "8b43a0fb-e05c-4fcc-b993-52d674ca4093",
   "metadata": {},
   "outputs": [],
   "source": [
    "# Writing a file\n",
    "file = open('MyFile.txt', 'w')\n",
    "line = 'This file is modified with write mode\\n'\n",
    "\n",
    "#write()\n",
    "file.write(line)\n",
    "file.close()"
   ]
  },
  {
   "cell_type": "markdown",
   "id": "dc7a226e-7533-499f-8a32-e0525b1f443f",
   "metadata": {},
   "source": [
    "3.In the ‘a’ mode, the file opens in append mode. It adds content to an existing file (or append at the end of the file). If the specified file doesn’t exist, it creates one with the specified name."
   ]
  },
  {
   "cell_type": "code",
   "execution_count": 9,
   "id": "a2baa402-30de-458e-93fe-9adee869a464",
   "metadata": {},
   "outputs": [],
   "source": [
    "# Appending a file\n",
    "file = open('MyFile.txt', 'a')\n",
    "lines = 'This is text written in append mode\\n'\n",
    "\n",
    "# Appending lines\n",
    "file.write(lines)\n",
    "file.close()"
   ]
  },
  {
   "cell_type": "markdown",
   "id": "7f518fce-e6e7-4afa-a3cb-9f916b2dae27",
   "metadata": {},
   "source": [
    "4.In the ‘r+’ mode, the file opens in the read & write mode. It does not remove existing content, if present, in the file and does not create a file if not present in the directory.\n"
   ]
  },
  {
   "cell_type": "code",
   "execution_count": 10,
   "id": "4274905d-c6ba-49e1-acdc-2bfa1e936700",
   "metadata": {},
   "outputs": [
    {
     "name": "stdout",
     "output_type": "stream",
     "text": [
      "This file is modified with write mode\n",
      "This is text written in append mode\n",
      "\n"
     ]
    }
   ],
   "source": [
    "# Reading and Writing a file with r+ mode\n",
    "file = open('MyFile.txt', 'r+')\n",
    "lines = file.read()\n",
    "print(lines)\n",
    "file.write(lines)\n",
    "file.close()"
   ]
  },
  {
   "cell_type": "markdown",
   "id": "672cb36a-f477-450c-98b0-5f8808b8d601",
   "metadata": {},
   "source": [
    "5.In the ‘w+’ mode, open the file in the read & write mode & remove existing content. If the file doesn’t exist, it creates a new one. It does not remove existing content & if a file doesn’t exist, it creates a new one"
   ]
  },
  {
   "cell_type": "code",
   "execution_count": 11,
   "id": "e85bcad9-188a-4f1b-85a0-c0ab1cc22b50",
   "metadata": {},
   "outputs": [],
   "source": [
    "# Writing and Reading a file\n",
    "file = open('MyFile.txt', 'w+')\n",
    "lines = file.read()\n",
    "file.write('This is w+ mode\\n')\n",
    "file.close()"
   ]
  },
  {
   "cell_type": "markdown",
   "id": "269adb6f-aba0-4e0b-bb17-29fd377485a5",
   "metadata": {},
   "source": [
    "6.a+: Opens a file for both appending and reading\n"
   ]
  },
  {
   "cell_type": "code",
   "execution_count": 12,
   "id": "ba5de499-1447-4022-bdac-8f8ed4ea0e5c",
   "metadata": {},
   "outputs": [],
   "source": [
    "# Appending and reading a file\n",
    "file = open('MyFile.txt', 'a+')\n",
    "lines = file.read()\n",
    "file.write('This is a+ mode\\n')\n",
    "file.close()"
   ]
  },
  {
   "cell_type": "markdown",
   "id": "64bcbd9c-ae58-4056-8328-1370e41a51d7",
   "metadata": {},
   "source": [
    "Question 2: Why close() function is used? Why is it important to close a file?"
   ]
  },
  {
   "cell_type": "markdown",
   "id": "daa02914-8cac-4c7b-bf9f-d680168b77dd",
   "metadata": {},
   "source": [
    "Answer : It is always a good practice to close a file after performing desired operations to it. Thus makes sure that all our changes have been saved to the file.\n",
    "Closing is done with .close() method"
   ]
  },
  {
   "cell_type": "code",
   "execution_count": 13,
   "id": "23a1c96f-64fc-4976-a005-51622891174e",
   "metadata": {},
   "outputs": [
    {
     "name": "stdout",
     "output_type": "stream",
     "text": [
      "This is w+ mode\n",
      "This is a+ mode\n",
      "\n"
     ]
    }
   ],
   "source": [
    "# Opening file in read mode\n",
    "file = open('MyFile.txt', 'r')\n",
    "\n",
    "#reading file and printing results\n",
    "text = file.read()\n",
    "print(text)\n",
    "\n",
    "# Closing the file\n",
    "file.close()\n"
   ]
  },
  {
   "cell_type": "markdown",
   "id": "d45229f2-ecdb-4760-8168-600515bc9147",
   "metadata": {},
   "source": [
    "\n",
    "\n"
   ]
  },
  {
   "cell_type": "markdown",
   "id": "b45d9532-433a-4c05-a983-ddfc6b53eb56",
   "metadata": {},
   "source": [
    "Question 3: Write a python program to create a text file. Write ‘I want to become a Data Scientist’ in that file. Then close the file. Open this file and read the content of the file."
   ]
  },
  {
   "cell_type": "code",
   "execution_count": 1,
   "id": "a6029c2d-d868-42ba-ad04-54701b070db5",
   "metadata": {},
   "outputs": [],
   "source": [
    "# Opening a file in write mode\n",
    "new_file = open('new_file.txt','w')\n",
    "# Writing the file in write mode\n",
    "new_file.write('I want to become a Data Scientist')\n",
    "# Closing the file\n",
    "new_file.close()"
   ]
  },
  {
   "cell_type": "code",
   "execution_count": 2,
   "id": "63fa7dd7-84f2-4f9f-b4e1-e8aab05948b7",
   "metadata": {},
   "outputs": [
    {
     "name": "stdout",
     "output_type": "stream",
     "text": [
      "I want to become a Data Scientist\n"
     ]
    }
   ],
   "source": [
    "# Opening file in read mode\n",
    "new_file = open('new_file.txt','r')\n",
    "# Reading the file\n",
    "lines = new_file.read()\n",
    "print(lines)\n",
    "# Closing the file\n",
    "new_file.close()"
   ]
  },
  {
   "cell_type": "markdown",
   "id": "42fc4eb1-6d01-4be5-aa01-016599f7f9e2",
   "metadata": {},
   "source": [
    "Question 4 : explain the following with python code: read(), readline() and readlines()."
   ]
  },
  {
   "cell_type": "markdown",
   "id": "2c0d3248-1306-415a-97c9-b67873e4b3ca",
   "metadata": {},
   "source": [
    "Answer:"
   ]
  },
  {
   "cell_type": "markdown",
   "id": "aa167f97-8967-46a8-8cf5-38369547641d",
   "metadata": {},
   "source": [
    "The read() method returns the specified number of bytes from the file. Default is -1 which means the whole file.\n"
   ]
  },
  {
   "cell_type": "code",
   "execution_count": 3,
   "id": "ea131a6c-2204-48b3-b642-79668db51d3c",
   "metadata": {},
   "outputs": [
    {
     "name": "stdout",
     "output_type": "stream",
     "text": [
      "This is w+ mode\n",
      "This is a+ mode\n",
      "\n"
     ]
    }
   ],
   "source": [
    "file = open('MyFile.txt','r')\n",
    "print(file.read())\n",
    "file.close()"
   ]
  },
  {
   "cell_type": "markdown",
   "id": "7c8e1f57-4e14-4065-a56f-5f3c593cbb6a",
   "metadata": {},
   "source": [
    "The readline() method returns one line from the file. You can also specified how many bytes from the line to return, by using the size parameter.\n"
   ]
  },
  {
   "cell_type": "code",
   "execution_count": 4,
   "id": "174a4dab-77a7-4224-8a33-154f092b9aaf",
   "metadata": {},
   "outputs": [
    {
     "name": "stdout",
     "output_type": "stream",
     "text": [
      "This is w+ mode\n",
      "\n"
     ]
    }
   ],
   "source": [
    "file = open('MyFile.txt','r')\n",
    "print(file.readline())\n",
    "file.close()\n"
   ]
  },
  {
   "cell_type": "markdown",
   "id": "8357b06b-73fb-45b5-a9b6-05b5152aad7b",
   "metadata": {},
   "source": [
    "The readlines() method returns a list containing each line in the file as a list item.\n"
   ]
  },
  {
   "cell_type": "code",
   "execution_count": 5,
   "id": "a7209344-d3e5-4d76-9cc9-0f5091e73488",
   "metadata": {},
   "outputs": [
    {
     "name": "stdout",
     "output_type": "stream",
     "text": [
      "['This is w+ mode\\n', 'This is a+ mode\\n']\n"
     ]
    }
   ],
   "source": [
    "file = open('MyFile.txt','r')\n",
    "print(file.readlines())\n",
    "file.close()"
   ]
  },
  {
   "cell_type": "markdown",
   "id": "622455a2-944f-4eae-a133-84bda1149e2b",
   "metadata": {},
   "source": [
    "  \n",
    "  \n",
    "  "
   ]
  },
  {
   "cell_type": "markdown",
   "id": "ba1be354-1dc4-4587-809d-88ff1ab9bcc3",
   "metadata": {},
   "source": [
    "\n",
    "\n",
    "\n",
    "."
   ]
  },
  {
   "cell_type": "markdown",
   "id": "5f1d6cd2-68bc-4912-b733-919ad7ff8578",
   "metadata": {},
   "source": [
    "Question 5 : Explain why with statement is used with open(). What is the advantage of using with statement and open() together"
   ]
  },
  {
   "cell_type": "markdown",
   "id": "49f2b85c-0471-4272-9fe4-70dee491bb62",
   "metadata": {},
   "source": [
    "ANSWER:In Python, with statement is used in exception handling to make the code cleaner and much more readable. It simplifies the management of common resources like file streams.\n",
    "Advantage is : unlike the previous implementations, there is no need to call file.close()"
   ]
  },
  {
   "cell_type": "markdown",
   "id": "cc031a67-7fde-42d3-82e4-4fea50e777da",
   "metadata": {},
   "source": [
    "It is guaranteed to close the file no matter how the nested block exits. If an exception occurs before the end of the block, it will close the file before the exception is caught by an outer exception handler.\n",
    "\n"
   ]
  },
  {
   "cell_type": "code",
   "execution_count": 6,
   "id": "b62a9140-57f9-4b08-a1a4-d80d85d61fc7",
   "metadata": {},
   "outputs": [
    {
     "name": "stdout",
     "output_type": "stream",
     "text": [
      "This is file created using with statement\n"
     ]
    }
   ],
   "source": [
    "# using with statement\n",
    "with open('with_file.txt', 'w') as file:\n",
    "\tfile.write('This is file created using with statement')\n",
    "# Using the above file using with statement and reading the file\n",
    "with open('with_file.txt','r') as file:\n",
    "    print(file.read())"
   ]
  },
  {
   "cell_type": "markdown",
   "id": "0d7f6529-95a4-4fb4-bf81-e03a06844832",
   "metadata": {},
   "source": [
    "\n",
    "\n",
    "\n"
   ]
  },
  {
   "cell_type": "code",
   "execution_count": null,
   "id": "7a1571f6-f326-4b23-86dd-a37fc5111151",
   "metadata": {},
   "outputs": [],
   "source": []
  },
  {
   "cell_type": "markdown",
   "id": "c66ae0e5-4976-49c0-ba64-77ce7c2f581a",
   "metadata": {},
   "source": [
    "Question 6: Explain the write() and writelines() functions. Give a suitable example"
   ]
  },
  {
   "cell_type": "markdown",
   "id": "02e14d47-1772-4768-98e4-f6ab4881803a",
   "metadata": {},
   "source": [
    "Answer :\n",
    "The write() function will write the content in the file without adding any extra characters.\n"
   ]
  },
  {
   "cell_type": "markdown",
   "id": "a5d91901-3f7c-4c90-a710-44ea2740f218",
   "metadata": {},
   "source": [
    "While writing data to a file, we must know that the write function does not add a newline character(\\n) to the end of the string.\n"
   ]
  },
  {
   "cell_type": "markdown",
   "id": "edffcf2c-c3ff-4fe6-8789-862c39c4d4e8",
   "metadata": {},
   "source": [
    "The write() function returns None.\n",
    "\n"
   ]
  },
  {
   "cell_type": "code",
   "execution_count": 7,
   "id": "faeb61f7-2c55-4253-a571-610169deb1c3",
   "metadata": {},
   "outputs": [],
   "source": [
    "student_file = open(\"students.txt\", \"w\")\n",
    "\n",
    "student_name = ['Suraj','Pravin','Dhiraj']\n",
    "\n",
    "for i in student_name:\n",
    "    student_file.write(f'Name of student : {i}')\n",
    "    student_file.write(\"\\n\")\n",
    "\t\n",
    "student_file.close()"
   ]
  },
  {
   "cell_type": "code",
   "execution_count": 10,
   "id": "bf017313-014a-4dd9-b96b-d10781e3e9ea",
   "metadata": {},
   "outputs": [
    {
     "name": "stdout",
     "output_type": "stream",
     "text": [
      "Name of student : Suraj\n",
      "Name of student : Pravin\n",
      "Name of student : Dhiraj\n",
      "\n"
     ]
    }
   ],
   "source": [
    "with open('students.txt','r') as file:\n",
    "    print(file.read())"
   ]
  },
  {
   "cell_type": "markdown",
   "id": "125f4293-b7fa-471c-82d4-c9a6882f13f1",
   "metadata": {},
   "source": [
    "writelines(): This function writes the content of a list to a file.\n",
    "the list of strings that is passed to the writelines() function is written into the opened file.\n",
    "Similar to the write() function, the writelines() function does not add a newline character(\\n) to the end of the string"
   ]
  },
  {
   "cell_type": "code",
   "execution_count": 8,
   "id": "58170e76-7c59-4c86-bc14-7bac2ceee1ca",
   "metadata": {},
   "outputs": [],
   "source": [
    "student_name2 = ['Suraj','Ramesh','Suresh']\n",
    "# Adding \\n character to each element in list \n",
    "lst = []\n",
    "for i in student_name2:\n",
    "    lst.append(i+'\\n')\n",
    "# Writing with writelines\n",
    "with open('student2.txt','w') as file2:\n",
    "    file2.writelines(lst)"
   ]
  },
  {
   "cell_type": "code",
   "execution_count": 9,
   "id": "b735a287-cc9d-4a5c-8c2f-6e2b510d288b",
   "metadata": {},
   "outputs": [
    {
     "name": "stdout",
     "output_type": "stream",
     "text": [
      "Suraj\n",
      "Ramesh\n",
      "Suresh\n",
      "\n"
     ]
    }
   ],
   "source": [
    "with open('student2.txt','r') as file2:\n",
    "    print(file2.read())"
   ]
  },
  {
   "cell_type": "code",
   "execution_count": null,
   "id": "90bab1c1-d1bd-43ce-9376-124da0b447e3",
   "metadata": {},
   "outputs": [],
   "source": []
  }
 ],
 "metadata": {
  "kernelspec": {
   "display_name": "Python 3 (ipykernel)",
   "language": "python",
   "name": "python3"
  },
  "language_info": {
   "codemirror_mode": {
    "name": "ipython",
    "version": 3
   },
   "file_extension": ".py",
   "mimetype": "text/x-python",
   "name": "python",
   "nbconvert_exporter": "python",
   "pygments_lexer": "ipython3",
   "version": "3.10.8"
  }
 },
 "nbformat": 4,
 "nbformat_minor": 5
}
