{
 "cells": [
  {
   "cell_type": "markdown",
   "id": "8b78fe2e-a986-4b2c-ac06-b387398acbb6",
   "metadata": {},
   "source": [
    "# Import logging method in custom format"
   ]
  },
  {
   "cell_type": "code",
   "execution_count": 1,
   "id": "e36ac470-ad99-4860-9ef2-0b56564ff058",
   "metadata": {},
   "outputs": [],
   "source": [
    "import logging\n",
    "logging.basicConfig(filename='Assignment13.log',level=logging.DEBUG,format= '%(asctime)s - %(name)s - %(levelname)s - %(message)s')\n"
   ]
  },
  {
   "cell_type": "markdown",
   "id": "ce70936e-6095-4f4b-9980-eafea6f763fd",
   "metadata": {},
   "source": [
    "# Question 1: What is Multi Threading in Python? Why it is used? Name the module used to handle threads in python."
   ]
  },
  {
   "cell_type": "markdown",
   "id": "3dbc8cae-fc54-45ee-a847-5bb60e05d78a",
   "metadata": {},
   "source": [
    "# Answer :\n",
    "1. A thread is a unit of execution within a process. Multithreading refers to concurrently executing multiple threads by rapidly switching the control of the CPU between threads (called context switching).\n",
    "2. Threading in python is used to run multiple threads (tasks, function calls) at the same time. Note that this does not mean that they are executed on different CPUs. Python threads will NOT make your program faster if it already uses 100 % CPU time. In that case, you probably want to look into parallel programming.\n",
    "3. The module used to handle threads in python is \"threading\" module"
   ]
  },
  {
   "cell_type": "code",
   "execution_count": 2,
   "id": "fa776929-cd1b-4898-a2cd-ba89d24f5e32",
   "metadata": {},
   "outputs": [
    {
     "name": "stdout",
     "output_type": "stream",
     "text": [
      "Thread 1: 1\n",
      "Thread 1: 2\n",
      "Thread 1: 3\n",
      "Thread 1: 4\n",
      "Thread 1: 5\n",
      "Thread 2: A\n",
      "Thread 2: B\n",
      "Thread 2: C\n",
      "Thread 2: D\n",
      "Thread 2: E\n",
      "Threads execution completed.\n"
     ]
    }
   ],
   "source": [
    "import threading\n",
    "\n",
    "# Function to be executed by a thread\n",
    "def print_numbers():\n",
    "    for i in range(1, 6):\n",
    "        print(\"Thread 1:\", i)\n",
    "\n",
    "# Function to be executed by another thread\n",
    "def print_letters():\n",
    "    for letter in 'ABCDE':\n",
    "        print(\"Thread 2:\", letter)\n",
    "\n",
    "# Create two threads\n",
    "thread1 = threading.Thread(target=print_numbers)\n",
    "thread2 = threading.Thread(target=print_letters)\n",
    "\n",
    "# Start the threads\n",
    "thread1.start()\n",
    "thread2.start()\n",
    "\n",
    "# Wait for both threads to finish\n",
    "thread1.join()\n",
    "thread2.join()\n",
    "\n",
    "print(\"Threads execution completed.\")\n"
   ]
  },
  {
   "cell_type": "markdown",
   "id": "17d8d8f1-8fe8-4665-bc54-a8ad9622f58e",
   "metadata": {},
   "source": [
    "#  Question 2: Why Threading Module is used ? Write the use of following functionshy threading module used? rite the use of the following functions\n",
    "1.activeCount()\n",
    "2.currentThread()\n",
    "3.enumerate"
   ]
  },
  {
   "cell_type": "markdown",
   "id": "f1422ca4-8325-4104-aea4-3d31c86dd2e3",
   "metadata": {},
   "source": [
    "# Answer : \n",
    "    Python \"threading\" module allows you to have different parts of your program run concurrently and can simplify your design.\n"
   ]
  },
  {
   "cell_type": "markdown",
   "id": "bd866c4d-9599-4ef6-b821-bffffa2f68b7",
   "metadata": {},
   "source": [
    "Use of below functions :\n"
   ]
  },
  {
   "cell_type": "markdown",
   "id": "f7b87884-b217-44f0-b55e-8f12a55f0758",
   "metadata": {},
   "source": [
    "1. active_count() - Returns the number of thread objects that are active.(activeCount is deprecated latest function is active_count)\n"
   ]
  },
  {
   "cell_type": "code",
   "execution_count": 3,
   "id": "e43f0e56-557b-40d2-aaa2-e0bc72dbe124",
   "metadata": {},
   "outputs": [
    {
     "name": "stdout",
     "output_type": "stream",
     "text": [
      "Currently active threads are : 8\n"
     ]
    }
   ],
   "source": [
    "# Example 1: active_count() \n",
    "print(f\"Currently active threads are : {threading.active_count()}\")\n",
    "logging.info(f\"Currently active threads are : {threading.active_count()}\")\n"
   ]
  },
  {
   "cell_type": "markdown",
   "id": "6876d0df-84b7-4f19-aab1-668bb803d30c",
   "metadata": {},
   "source": [
    "2. current_thread() - it returns the current Thread object active at the moment.(currentThread is deprecated latest function is current_thread)"
   ]
  },
  {
   "cell_type": "code",
   "execution_count": 4,
   "id": "b1b80f2c-3981-4316-806b-a36f96c1b545",
   "metadata": {},
   "outputs": [
    {
     "name": "stdout",
     "output_type": "stream",
     "text": [
      "Current thread is : <_MainThread(MainThread, started 140451340568384)>\n"
     ]
    }
   ],
   "source": [
    "# Example 2: current_thread()\n",
    "print(f\"Current thread is : {threading.current_thread()}\")\n",
    "logging.info(f\"Current thread is : {threading.current_thread()}\")"
   ]
  },
  {
   "cell_type": "markdown",
   "id": "3e45e862-8bf9-4fd2-85cd-69ff770ceb0e",
   "metadata": {},
   "source": [
    "3. enumerate() - Returns a list of all thread objects that are currently active.\n"
   ]
  },
  {
   "cell_type": "code",
   "execution_count": 5,
   "id": "c21fdbc2-608d-464f-aef9-5e4476829cd5",
   "metadata": {},
   "outputs": [
    {
     "name": "stdout",
     "output_type": "stream",
     "text": [
      "List of all active threads is : [<_MainThread(MainThread, started 140451340568384)>, <Thread(IOPub, started daemon 140451201939008)>, <Heartbeat(Heartbeat, started daemon 140451193546304)>, <Thread(Thread-3 (_watch_pipe_fd), started daemon 140451168368192)>, <Thread(Thread-4 (_watch_pipe_fd), started daemon 140451159975488)>, <ControlThread(Control, started daemon 140451151582784)>, <HistorySavingThread(IPythonHistorySavingThread, started 140450799285824)>, <ParentPollerUnix(Thread-2, started daemon 140450790893120)>]\n"
     ]
    }
   ],
   "source": [
    "# Example 3: enumerate()\n",
    "print(f'List of all active threads is : {threading.enumerate()}')\n",
    "logging.info(f'List of all active threads is : {threading.enumerate()}')\n"
   ]
  },
  {
   "cell_type": "markdown",
   "id": "6a510190-d8c2-4ec8-838f-05c1199d23cb",
   "metadata": {},
   "source": [
    "# 3. Explain the following functions\n",
    "( run\n",
    " start\n",
    " join\n",
    "isAlive)"
   ]
  },
  {
   "cell_type": "markdown",
   "id": "3caa734d-0b1d-4cfb-aeda-4f7eca5f42d3",
   "metadata": {},
   "source": [
    "1. run() - The standard run() method invokes the callable object passed to the object’s constructor as the target argument, if any, with positional and keyword arguments taken from the args and kwargs arguments, respectively.\n"
   ]
  },
  {
   "cell_type": "code",
   "execution_count": 6,
   "id": "a7428791-e11e-4978-ac06-de6d506898f1",
   "metadata": {},
   "outputs": [
    {
     "name": "stdout",
     "output_type": "stream",
     "text": [
      "Hello World 1\n"
     ]
    }
   ],
   "source": [
    "# Example 1 run()\n",
    "t = threading.Thread(target=print,args=['Hello World','1'])\n",
    "t.run()\n",
    "logging.info('run() Command executed')"
   ]
  },
  {
   "cell_type": "markdown",
   "id": "194471fd-54d3-4e83-aed6-486bd201160d",
   "metadata": {},
   "source": [
    "2. start() - Start the thread’s activity. It must be called at most once per thread object. It arranges for the object’s run() method to be invoked in a separate thread of control.This method will raise a RuntimeError if called more than once on the same thread object.\n",
    "3. join() - Wait until the thread terminates. This blocks the calling thread until the thread whose join() method is called terminates – either normally or through an unhandled exception – or until the optional timeout occurs."
   ]
  },
  {
   "cell_type": "code",
   "execution_count": 7,
   "id": "fc21c1f4-ac31-4816-9452-bdd0b6f58c14",
   "metadata": {},
   "outputs": [
    {
     "name": "stdout",
     "output_type": "stream",
     "text": [
      "Counter Value: 0\n",
      "Counter Value: 1\n",
      "Counter Value: 2\n",
      "Counter Value: 3\n",
      "Counter Value: 4\n",
      "Counter Value: 5\n",
      "Counter Value: 6\n",
      "Counter Value: 7\n",
      "Counter Value: 8\n",
      "Counter Value: 9\n",
      "Thread Finished\n"
     ]
    }
   ],
   "source": [
    "import threading\n",
    "import logging\n",
    "from time import sleep\n",
    "\n",
    "logging.basicConfig(level=logging.INFO)\n",
    "\n",
    "def counter_function(arg):\n",
    "    for i in range(arg):\n",
    "        print(f\"Counter Value: {i}\")\n",
    "        logging.info(f\"Counter Value: {i}\")\n",
    "    # Wait for 1 second\n",
    "    sleep(1)\n",
    "\n",
    "thread2 = threading.Thread(target=counter_function, args=(10,))\n",
    "thread2.start() # Starts executing the thread separately\n",
    "thread2.join() # Join will wait until the thread is terminated\n",
    "print('Thread Finished')\n",
    "logging.info('Thread Finished')\n"
   ]
  },
  {
   "cell_type": "markdown",
   "id": "6e392af8-5d2f-4c80-a27b-0d780bf236f4",
   "metadata": {},
   "source": [
    "4. is_alive() - (isAlive is deprecated latest function - is_alive) Return whether the thread is alive. This method returns True just before the run() method starts until just after the run() method terminates."
   ]
  },
  {
   "cell_type": "code",
   "execution_count": 8,
   "id": "4d4d9518-9510-4e55-8d78-ce43be33d3fd",
   "metadata": {},
   "outputs": [
    {
     "name": "stdout",
     "output_type": "stream",
     "text": [
      "Check for thread2 is alive :  False\n"
     ]
    }
   ],
   "source": [
    "print('Check for thread2 is alive : ',thread2.is_alive())\n",
    "logging.info(f'thread 2 is alive : {thread2.is_alive()}')"
   ]
  },
  {
   "cell_type": "markdown",
   "id": "7a5a15f3-782c-4cd4-9af1-9c9c3f4504cd",
   "metadata": {},
   "source": [
    "# Question 4: Write a python program that creates two threads. Thread 1 must print list of squares and Thread 2 must print list of cubes."
   ]
  },
  {
   "cell_type": "markdown",
   "id": "d0bb440f-23e2-4d9c-af20-7d993ad81ca4",
   "metadata": {},
   "source": [
    "# Answer"
   ]
  },
  {
   "cell_type": "code",
   "execution_count": 9,
   "id": "2b7062c4-3ab1-458b-8125-2a82910dbfbb",
   "metadata": {},
   "outputs": [],
   "source": [
    "import logging\n",
    "\n",
    "# Define the list_squares function\n",
    "def list_squares(start, end):\n",
    "    \"\"\"\n",
    "    This function prints the list of squares\n",
    "    for the given start and end numbers\n",
    "    \"\"\"\n",
    "    for i in range(start, end+1):\n",
    "        square = i**2\n",
    "        print(f'The square of {i} is: {square}')\n",
    "        logging.info(f'The square of {i} is: {square}')\n"
   ]
  },
  {
   "cell_type": "code",
   "execution_count": 10,
   "id": "02090916-0e36-4377-9032-a7eec2f519c6",
   "metadata": {},
   "outputs": [],
   "source": [
    "import logging\n",
    "\n",
    "# Define the list_cubes function\n",
    "def list_cubes(start, end):\n",
    "    \"\"\"\n",
    "    This function prints the list of cubes\n",
    "    for the given start and end numbers\n",
    "    \"\"\"\n",
    "    for i in range(start, end+1):\n",
    "        cube = i**3\n",
    "        print(f'The cube of {i} is: {cube}')\n",
    "        logging.info(f'The cube of {i} is: {cube}')\n"
   ]
  },
  {
   "cell_type": "code",
   "execution_count": 11,
   "id": "10ac03d5-c0b5-46a0-9f8a-61abfc7e00e1",
   "metadata": {},
   "outputs": [
    {
     "name": "stdout",
     "output_type": "stream",
     "text": [
      "The square of 1 is: 1\n",
      "The cube of 7 is: 343\n",
      "The square of 2 is: 4\n",
      "The cube of 8 is: 512\n",
      "The square of 3 is: 9\n",
      "The square of 4 is: 16\n",
      "The square of 5 is: 25\n",
      "The square of 6 is: 36\n",
      "The square of 7 is: 49\n",
      "The cube of 9 is: 729\n",
      "The square of 8 is: 64\n",
      "The cube of 10 is: 1000\n",
      "The square of 9 is: 81\n",
      "The cube of 11 is: 1331\n",
      "The square of 10 is: 100\n",
      "The cube of 12 is: 1728\n",
      "The cube of 13 is: 2197\n",
      "The cube of 14 is: 2744\n",
      "The cube of 15 is: 3375\n",
      "The cube of 16 is: 4096\n"
     ]
    }
   ],
   "source": [
    "# Defining threads 1 and 2 and executing\n",
    "\n",
    "# create the threads with custom arguments\n",
    "t1 = threading.Thread(target=list_squares, args=(1, 10))\n",
    "t2 = threading.Thread(target=list_cubes, args=(7, 16))\n",
    "\n",
    "# start the threads\n",
    "t1.start()\n",
    "t2.start()\n",
    "\n",
    "# wait for the threads to finish\n",
    "t1.join()\n",
    "t2.join()"
   ]
  },
  {
   "cell_type": "markdown",
   "id": "047c525a-8e64-4dd8-a6ca-547bee871b30",
   "metadata": {},
   "source": [
    "# Question 5: State advantages and disadvantages of Multithreading."
   ]
  },
  {
   "cell_type": "markdown",
   "id": "3a003d85-6216-4fd4-937b-c3fc9ec64fbf",
   "metadata": {},
   "source": [
    "# Answer : Multithreading is a programming technique that enables a program to perform multiple tasks concurrently. In multithreading, multiple threads are created, and each thread can execute a different part of the program at the same time. There are several advantages and disadvantages of multithreading, which we will discuss below:"
   ]
  },
  {
   "cell_type": "markdown",
   "id": "1e2b493d-466b-43e8-bb42-7bffa0c9be39",
   "metadata": {},
   "source": [
    "# Advantages of multithreading:\n"
   ]
  },
  {
   "cell_type": "markdown",
   "id": "5f5355f1-cace-440b-bfe9-58ed5242e33a",
   "metadata": {},
   "source": [
    "1. Improved performance: Multithreading can improve the performance of a program by allowing different parts of the program to run simultaneously. This can make the program more efficient and reduce the overall execution time.\n",
    "\n",
    "2. Better resource utilization: Multithreading can make better use of available resources such as CPU and memory by distributing the workload across multiple threads.\n",
    "\n",
    "3. Enhanced user experience: Multithreading can improve the user experience by making the program more responsive and interactive.\n",
    "\n",
    "4. Simplified coding: Multithreading can simplify coding by allowing the programmer to break down complex tasks into smaller, more manageable threads.\n",
    "\n",
    "5. Scalability: Multithreading allows the program to scale well as the number of threads can be increased based on the available resources."
   ]
  },
  {
   "cell_type": "markdown",
   "id": "829405ae-ba03-4094-a800-134197bcb8fc",
   "metadata": {},
   "source": [
    "# Disadvantage of Multithreading\n"
   ]
  },
  {
   "cell_type": "markdown",
   "id": "b7b2cd99-8cfd-4ef7-afc0-a6273282c9b4",
   "metadata": {},
   "source": [
    "1. Increased complexity: Multithreading can make the program more complex and harder to debug. It can be challenging to ensure that multiple threads access shared resources in a thread-safe manner, which can lead to synchronization issues.\n",
    "\n",
    "2. Overhead: Multithreading adds overhead to the program as there is additional management overhead for creating, synchronizing, and managing threads.\n",
    "\n",
    "3. Race conditions: Multithreading can lead to race conditions, where multiple threads try to access the same shared resource simultaneously, resulting in unpredictable and incorrect behavior.\n",
    "\n",
    "4. Resource contention: Multithreading can result in resource contention when multiple threads try to access the same resource, such as memory or I/O devices, which can lead to performance degradation.\n",
    "\n",
    "5. Deadlocks: Multithreading can lead to deadlocks, where two or more threads are blocked waiting for each other to release resources, resulting in a program that hangs or crashes."
   ]
  },
  {
   "cell_type": "markdown",
   "id": "a27d76dd-c1bb-4c2e-af6b-095467857e35",
   "metadata": {},
   "source": [
    "# Question 6: Explain deadlocks and race conditions."
   ]
  },
  {
   "cell_type": "markdown",
   "id": "ec7980b9-f0d9-4d58-9a1d-5061ee9bf9d7",
   "metadata": {},
   "source": [
    "# Answer : Deadlocks and race conditions are two common synchronization issues that can occur in multithreaded programs.\n"
   ]
  },
  {
   "cell_type": "markdown",
   "id": "7ca3bd95-3515-4990-b579-d4801f4f3938",
   "metadata": {},
   "source": [
    "1. Deadlocks : A deadlock is a situation where two or more threads are blocked, waiting for each other to release a resource. In other words, each thread is holding a resource that the other thread needs to proceed, but neither thread can release its resource until it acquires the resource it is waiting for. This results in a situation where both threads are stuck, waiting indefinitely for the other thread to release the resource. Deadlocks can cause a program to hang or crash and are notoriously difficult to debug.\n",
    "2. Race Condition : A race condition occurs when two or more threads access a shared resource simultaneously, and the final outcome depends on the order in which the threads are executed. In other words, the execution of the program depends on the timing of the threads, and if the order of execution is not controlled, it can result in unpredictable behavior. For example, if two threads try to update the same variable simultaneously, the final value of the variable will depend on which thread executed first. This can result in incorrect program behavior, such as data corruption or inconsistency."
   ]
  },
  {
   "cell_type": "markdown",
   "id": "7c23d7d7-eef9-48fa-9aa1-1cf1790b6d9f",
   "metadata": {},
   "source": [
    "# To avoid deadlocks and race conditions, it is important to ensure that the threads access shared resources in a thread-safe manner. This can be achieved using synchronization mechanisms such as locks, semaphores, and mutexes, which allow only one thread to access a shared resource at a time. It is also important to design multithreaded programs carefully, avoiding shared resources wherever possible, and minimizing the time that a thread holds a lock to prevent deadlocks. Additionally, techniques such as thread prioritization and thread scheduling can be used to control the order of execution and avoid race conditions."
   ]
  },
  {
   "cell_type": "code",
   "execution_count": 12,
   "id": "b350d8b7-13de-4c32-84fd-a917292ca260",
   "metadata": {},
   "outputs": [],
   "source": [
    "# Shutdown logging first\n",
    "logging.shutdown()"
   ]
  },
  {
   "cell_type": "code",
   "execution_count": 13,
   "id": "64062fc9-7869-43c2-a589-0d45b242b7a1",
   "metadata": {},
   "outputs": [
    {
     "name": "stdout",
     "output_type": "stream",
     "text": [
      "2023-06-15 08:25:50,084 - root - INFO - Currently active threads are : 8\n",
      "2023-06-15 08:26:43,208 - root - INFO - Current thread is : <_MainThread(MainThread, started 140455065286464)>\n",
      "2023-06-15 08:28:13,116 - root - INFO - List of all active threads is : [<_MainThread(MainThread, started 140455065286464)>, <Thread(IOPub, started daemon 140454994757184)>, <Heartbeat(Heartbeat, started daemon 140454986364480)>, <Thread(Thread-3 (_watch_pipe_fd), started daemon 140454758708800)>, <Thread(Thread-4 (_watch_pipe_fd), started daemon 140454750316096)>, <ControlThread(Control, started daemon 140454741923392)>, <HistorySavingThread(IPythonHistorySavingThread, started 140454733530688)>, <ParentPollerUnix(Thread-2, started daemon 140454725137984)>]\n",
      "2023-06-15 08:36:20,930 - root - INFO - run() Command executed\n",
      "2023-06-15 09:50:26,097 - root - INFO - Currently active threads are : 8\n",
      "2023-06-15 09:50:26,104 - root - INFO - Current thread is : <_MainThread(MainThread, started 140259592804160)>\n",
      "2023-06-15 09:50:26,110 - root - INFO - List of all active threads is : [<_MainThread(MainThread, started 140259592804160)>, <Thread(IOPub, started daemon 140259522274880)>, <Heartbeat(Heartbeat, started daemon 140259513882176)>, <Thread(Thread-3 (_watch_pipe_fd), started daemon 140259488704064)>, <Thread(Thread-4 (_watch_pipe_fd), started daemon 140259480311360)>, <ControlThread(Control, started daemon 140259136370240)>, <HistorySavingThread(IPythonHistorySavingThread, started 140259127977536)>, <ParentPollerUnix(Thread-2, started daemon 140259118536256)>]\n",
      "2023-06-15 09:50:26,118 - root - INFO - run() Command executed\n",
      "2023-06-15 09:51:12,061 - root - INFO - Currently active threads are : 8\n",
      "2023-06-15 09:51:12,068 - root - INFO - Current thread is : <_MainThread(MainThread, started 140529589794624)>\n",
      "2023-06-15 09:51:12,074 - root - INFO - List of all active threads is : [<_MainThread(MainThread, started 140529589794624)>, <Thread(IOPub, started daemon 140529450874432)>, <Heartbeat(Heartbeat, started daemon 140529442481728)>, <Thread(Thread-3 (_watch_pipe_fd), started daemon 140529417303616)>, <Thread(Thread-4 (_watch_pipe_fd), started daemon 140529408910912)>, <ControlThread(Control, started daemon 140529400518208)>, <HistorySavingThread(IPythonHistorySavingThread, started 140529048221248)>, <ParentPollerUnix(Thread-2, started daemon 140529039828544)>]\n",
      "2023-06-15 09:51:12,080 - root - INFO - run() Command executed\n",
      "2023-06-15 09:51:12,090 - root - INFO - Counter Value: 0\n",
      "2023-06-15 09:51:12,091 - root - INFO - Counter Value: 1\n",
      "2023-06-15 09:51:12,091 - root - INFO - Counter Value: 2\n",
      "2023-06-15 09:51:12,091 - root - INFO - Counter Value: 3\n",
      "2023-06-15 09:51:12,091 - root - INFO - Counter Value: 4\n",
      "2023-06-15 09:51:12,091 - root - INFO - Counter Value: 5\n",
      "2023-06-15 09:51:12,091 - root - INFO - Counter Value: 6\n",
      "2023-06-15 09:51:12,091 - root - INFO - Counter Value: 7\n",
      "2023-06-15 09:51:12,091 - root - INFO - Counter Value: 8\n",
      "2023-06-15 09:51:12,091 - root - INFO - Counter Value: 9\n",
      "2023-06-15 09:51:13,093 - root - INFO - Thread Finished\n",
      "2023-06-15 09:51:13,098 - root - INFO - thread 2 is alive : False\n",
      "2023-06-15 09:53:23,619 - Comm - ERROR - No such comm target registered: jupyter.widget.control\n",
      "2023-06-15 09:53:23,623 - Comm - WARNING - No such comm: 973e80ec-edfc-480c-ad47-3a51a817440a\n",
      "2023-06-15 09:53:23,624 - Comm - DEBUG - Current comms: []\n",
      "2023-06-15 09:55:45,708 - root - INFO - Currently active threads are : 8\n",
      "2023-06-15 09:55:45,715 - root - INFO - Current thread is : <_MainThread(MainThread, started 140437382272832)>\n",
      "2023-06-15 09:55:45,721 - root - INFO - List of all active threads is : [<_MainThread(MainThread, started 140437382272832)>, <Thread(IOPub, started daemon 140437243295296)>, <Heartbeat(Heartbeat, started daemon 140437234902592)>, <Thread(Thread-3 (_watch_pipe_fd), started daemon 140437209724480)>, <Thread(Thread-4 (_watch_pipe_fd), started daemon 140437201331776)>, <ControlThread(Control, started daemon 140437192939072)>, <HistorySavingThread(IPythonHistorySavingThread, started 140436840642112)>, <ParentPollerUnix(Thread-2, started daemon 140436832249408)>]\n",
      "2023-06-15 09:55:45,727 - root - INFO - run() Command executed\n",
      "2023-06-15 09:55:45,739 - root - INFO - Counter Value: 0\n",
      "2023-06-15 09:55:45,739 - root - INFO - Counter Value: 1\n",
      "2023-06-15 09:55:45,739 - root - INFO - Counter Value: 2\n",
      "2023-06-15 09:55:45,739 - root - INFO - Counter Value: 3\n",
      "2023-06-15 09:55:45,740 - root - INFO - Counter Value: 4\n",
      "2023-06-15 09:55:45,740 - root - INFO - Counter Value: 5\n",
      "2023-06-15 09:55:45,740 - root - INFO - Counter Value: 6\n",
      "2023-06-15 09:55:45,740 - root - INFO - Counter Value: 7\n",
      "2023-06-15 09:55:45,740 - root - INFO - Counter Value: 8\n",
      "2023-06-15 09:55:45,740 - root - INFO - Counter Value: 9\n",
      "2023-06-15 09:55:46,741 - root - INFO - Thread Finished\n",
      "2023-06-15 09:55:46,747 - root - INFO - thread 2 is alive : False\n",
      "2023-06-15 09:56:51,141 - root - INFO - The square of 1 is: 1\n",
      "2023-06-15 09:56:51,142 - root - INFO - The square of 2 is: 4\n",
      "2023-06-15 09:56:51,142 - root - INFO - The square of 3 is: 9\n",
      "2023-06-15 09:56:51,142 - root - INFO - The square of 4 is: 16\n",
      "2023-06-15 09:56:51,142 - root - INFO - The square of 5 is: 25\n",
      "2023-06-15 09:56:51,142 - root - INFO - The square of 6 is: 36\n",
      "2023-06-15 09:56:51,142 - root - INFO - The square of 7 is: 49\n",
      "2023-06-15 09:56:51,142 - root - INFO - The square of 8 is: 64\n",
      "2023-06-15 09:56:51,142 - root - INFO - The square of 9 is: 81\n",
      "2023-06-15 09:56:51,142 - root - INFO - The square of 10 is: 100\n",
      "2023-06-15 09:56:51,142 - root - INFO - The cube of 7 is: 343\n",
      "2023-06-15 09:56:51,143 - root - INFO - The cube of 8 is: 512\n",
      "2023-06-15 09:56:51,143 - root - INFO - The cube of 9 is: 729\n",
      "2023-06-15 09:56:51,143 - root - INFO - The cube of 10 is: 1000\n",
      "2023-06-15 09:56:51,143 - root - INFO - The cube of 11 is: 1331\n",
      "2023-06-15 09:56:51,143 - root - INFO - The cube of 12 is: 1728\n",
      "2023-06-15 09:56:51,143 - root - INFO - The cube of 13 is: 2197\n",
      "2023-06-15 09:56:51,143 - root - INFO - The cube of 14 is: 2744\n",
      "2023-06-15 09:56:51,143 - root - INFO - The cube of 15 is: 3375\n",
      "2023-06-15 09:56:51,143 - root - INFO - The cube of 16 is: 4096\n",
      "2023-06-15 10:05:15,927 - root - INFO - Currently active threads are : 8\n",
      "2023-06-15 10:05:15,935 - root - INFO - Current thread is : <_MainThread(MainThread, started 140451340568384)>\n",
      "2023-06-15 10:05:15,941 - root - INFO - List of all active threads is : [<_MainThread(MainThread, started 140451340568384)>, <Thread(IOPub, started daemon 140451201939008)>, <Heartbeat(Heartbeat, started daemon 140451193546304)>, <Thread(Thread-3 (_watch_pipe_fd), started daemon 140451168368192)>, <Thread(Thread-4 (_watch_pipe_fd), started daemon 140451159975488)>, <ControlThread(Control, started daemon 140451151582784)>, <HistorySavingThread(IPythonHistorySavingThread, started 140450799285824)>, <ParentPollerUnix(Thread-2, started daemon 140450790893120)>]\n",
      "2023-06-15 10:05:15,947 - root - INFO - run() Command executed\n",
      "2023-06-15 10:05:15,957 - root - INFO - Counter Value: 0\n",
      "2023-06-15 10:05:15,957 - root - INFO - Counter Value: 1\n",
      "2023-06-15 10:05:15,958 - root - INFO - Counter Value: 2\n",
      "2023-06-15 10:05:15,958 - root - INFO - Counter Value: 3\n",
      "2023-06-15 10:05:15,958 - root - INFO - Counter Value: 4\n",
      "2023-06-15 10:05:15,958 - root - INFO - Counter Value: 5\n",
      "2023-06-15 10:05:15,958 - root - INFO - Counter Value: 6\n",
      "2023-06-15 10:05:15,958 - root - INFO - Counter Value: 7\n",
      "2023-06-15 10:05:15,958 - root - INFO - Counter Value: 8\n",
      "2023-06-15 10:05:15,958 - root - INFO - Counter Value: 9\n",
      "2023-06-15 10:05:16,960 - root - INFO - Thread Finished\n",
      "2023-06-15 10:05:16,965 - root - INFO - thread 2 is alive : False\n",
      "2023-06-15 10:05:16,988 - root - INFO - The square of 1 is: 1\n",
      "2023-06-15 10:05:16,989 - root - INFO - The cube of 7 is: 343\n",
      "2023-06-15 10:05:16,989 - root - INFO - The square of 2 is: 4\n",
      "2023-06-15 10:05:16,990 - root - INFO - The square of 3 is: 9\n",
      "2023-06-15 10:05:16,990 - root - INFO - The square of 4 is: 16\n",
      "2023-06-15 10:05:16,990 - root - INFO - The square of 5 is: 25\n",
      "2023-06-15 10:05:16,990 - root - INFO - The square of 6 is: 36\n",
      "2023-06-15 10:05:16,990 - root - INFO - The cube of 8 is: 512\n",
      "2023-06-15 10:05:16,990 - root - INFO - The square of 7 is: 49\n",
      "2023-06-15 10:05:16,990 - root - INFO - The cube of 9 is: 729\n",
      "2023-06-15 10:05:16,990 - root - INFO - The square of 8 is: 64\n",
      "2023-06-15 10:05:16,990 - root - INFO - The cube of 10 is: 1000\n",
      "2023-06-15 10:05:16,991 - root - INFO - The square of 9 is: 81\n",
      "2023-06-15 10:05:16,991 - root - INFO - The cube of 11 is: 1331\n",
      "2023-06-15 10:05:16,991 - root - INFO - The square of 10 is: 100\n",
      "2023-06-15 10:05:16,991 - root - INFO - The cube of 12 is: 1728\n",
      "2023-06-15 10:05:16,991 - root - INFO - The cube of 13 is: 2197\n",
      "2023-06-15 10:05:16,992 - root - INFO - The cube of 14 is: 2744\n",
      "2023-06-15 10:05:16,992 - root - INFO - The cube of 15 is: 3375\n",
      "2023-06-15 10:05:16,992 - root - INFO - The cube of 16 is: 4096\n",
      "\n"
     ]
    }
   ],
   "source": [
    "# Showing a entire of log file of Assignment 13\n",
    "with open('Assignment13.log','r') as f:\n",
    "    print(f.read())"
   ]
  },
  {
   "cell_type": "code",
   "execution_count": 14,
   "id": "4b78ba0b-7980-4c78-b759-9a2609fbf137",
   "metadata": {},
   "outputs": [
    {
     "data": {
      "text/plain": [
       "'Assignment13Log.txt'"
      ]
     },
     "execution_count": 14,
     "metadata": {},
     "output_type": "execute_result"
    }
   ],
   "source": [
    "# Copying and saving entire log as txt file\n",
    "import shutil\n",
    "shutil.copy('Assignment13.log','Assignment13Log.txt')"
   ]
  },
  {
   "cell_type": "code",
   "execution_count": null,
   "id": "75457fb0-8099-41c9-b790-2a1e89ca81a5",
   "metadata": {},
   "outputs": [],
   "source": []
  }
 ],
 "metadata": {
  "kernelspec": {
   "display_name": "Python 3 (ipykernel)",
   "language": "python",
   "name": "python3"
  },
  "language_info": {
   "codemirror_mode": {
    "name": "ipython",
    "version": 3
   },
   "file_extension": ".py",
   "mimetype": "text/x-python",
   "name": "python",
   "nbconvert_exporter": "python",
   "pygments_lexer": "ipython3",
   "version": "3.10.8"
  }
 },
 "nbformat": 4,
 "nbformat_minor": 5
}
